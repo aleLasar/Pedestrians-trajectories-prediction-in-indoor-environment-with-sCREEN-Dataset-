{
 "cells": [
  {
   "cell_type": "code",
   "execution_count": 1,
   "id": "e2421575",
   "metadata": {},
   "outputs": [],
   "source": [
    "import pandas as pd\n",
    "import numpy as np2\n",
    "import math\n",
    "import matplotlib.pyplot as plt\n",
    "import datetime \n",
    "import time\n",
    "import random\n",
    "from refainedLibrary_v3 import *\n",
    "from statsmodels.tsa.api import Holt\n",
    "from scipy.interpolate import *\n",
    "from matplotlib.backend_bases import MouseButton\n",
    "from tqdm.notebook import tqdm\n",
    "\n",
    "pd.set_option(\"display.max_rows\", None, \"display.max_columns\", None)"
   ]
  },
  {
   "cell_type": "code",
   "execution_count": 2,
   "id": "7efcc245",
   "metadata": {},
   "outputs": [],
   "source": [
    "rd = Refained_Data('sCREEN-dataset.txt')\n",
    "data = rd.get_dataset()"
   ]
  },
  {
   "cell_type": "markdown",
   "id": "0f9a2f9c",
   "metadata": {},
   "source": [
    "### Number of point for tag"
   ]
  },
  {
   "cell_type": "code",
   "execution_count": 18,
   "id": "de27dfa9",
   "metadata": {},
   "outputs": [
    {
     "name": "stdout",
     "output_type": "stream",
     "text": [
      "0 - 62310.0 - 0x00205EFB161F\n",
      "1 - 52558.0 - 0x00205F151090\n",
      "2 - 51341.0 - 0x00205EFE0F24\n",
      "3 - 43927.0 - 0x00205F151077\n",
      "4 - 43564.0 - 0x00205F151091\n",
      "5 - 41434.0 - 0x00205F151116\n",
      "6 - 40618.0 - 0x00205F150CC6\n",
      "7 - 40188.0 - 0x00205F151021\n",
      "8 - 39327.0 - 0x00205EFB1321\n",
      "9 - 38652.0 - 0x00205F15105B\n",
      "10 - 38649.0 - 0x00205F0907BC\n",
      "11 - 38548.0 - 0x00205F1510B5\n",
      "12 - 37955.0 - 0x00205F151107\n",
      "13 - 37578.0 - 0x00205F09087F\n",
      "14 - 37228.0 - 0x00205F090123\n",
      "15 - 36906.0 - 0x00205F1510FD\n",
      "16 - 36816.0 - 0x00205F1510AA\n",
      "17 - 35448.0 - 0x00205F151015\n",
      "18 - 35369.0 - 0x00205F1510E8\n",
      "19 - 35034.0 - 0x00205F090588\n",
      "20 - 34549.0 - 0x00205F1510A9\n",
      "21 - 33967.0 - 0x00205F15107E\n",
      "22 - 32996.0 - 0x00205EFB0FD4\n",
      "23 - 31970.0 - 0x00205F151064\n",
      "24 - 31448.0 - 0x00205F150CD4\n",
      "25 - 31205.0 - 0x00205F1510ED\n",
      "26 - 30445.0 - 0x00205EFB12AC\n",
      "27 - 29956.0 - 0x00205EFB1544\n",
      "28 - 29338.0 - 0x00205F15105E\n",
      "29 - 29037.0 - 0x00205F1510DB\n",
      "30 - 28659.0 - 0x00205F1510AC\n",
      "31 - 28643.0 - 0x00205F1510AB\n",
      "32 - 27316.0 - 0x00205F1510EF\n",
      "33 - 26911.0 - 0x00205F15109D\n",
      "34 - 26001.0 - 0x00205F150E3D\n",
      "35 - 25998.0 - 0x00205F15109C\n",
      "36 - 25933.0 - 0x00205F151029\n",
      "37 - 25840.0 - 0x00205F15106C\n",
      "38 - 25097.0 - 0x00205F1510B7\n",
      "39 - 24315.0 - 0x00205F150A58\n",
      "40 - 24114.0 - 0x00205EFB14CB\n",
      "41 - 23635.0 - 0x00205F150CC2\n",
      "42 - 23088.0 - 0x00205EFB1250\n",
      "43 - 21580.0 - 0x00205F150A6F\n",
      "44 - 21437.0 - 0x00205F150E3B\n",
      "45 - 21381.0 - 0x00205F150CB1\n",
      "46 - 21353.0 - 0x00205F15101E\n",
      "47 - 21276.0 - 0x00205F1510E7\n",
      "48 - 19878.0 - 0x00205F1510AD\n",
      "49 - 19841.0 - 0x00205EFB1706\n",
      "50 - 19130.0 - 0x00205F151114\n",
      "51 - 18163.0 - 0x00205EFE0FC7\n",
      "52 - 18157.0 - 0x00205F151100\n",
      "53 - 18090.0 - 0x00205EFB126B\n",
      "54 - 17084.0 - 0x00205F151096\n",
      "55 - 16561.0 - 0x00205F1510D9\n",
      "56 - 16470.0 - 0x00205F150A57\n",
      "57 - 16441.0 - 0x00205F150A40\n",
      "58 - 15772.0 - 0x00205EFB1588\n",
      "59 - 15742.0 - 0x00205F15102B\n",
      "60 - 15238.0 - 0x00205F0901E1\n",
      "61 - 14979.0 - 0x00205F15108D\n",
      "62 - 14499.0 - 0x00205F151054\n",
      "63 - 13446.0 - 0x00205F1510E4\n",
      "64 - 13237.0 - 0x00205F1511B1\n",
      "65 - 12002.0 - 0x00205F151019\n",
      "66 - 11968.0 - 0x00205EFB0EE2\n",
      "67 - 11954.0 - 0x00205EFF1C60\n",
      "68 - 11409.0 - 0x00205F151062\n",
      "69 - 11345.0 - 0x00205F15110B\n",
      "70 - 11310.0 - 0x00205F1510F8\n",
      "71 - 10402.0 - 0x00205F09010E\n",
      "72 - 9738.0 - 0x00205F1510DD\n",
      "73 - 9685.0 - 0x00205EFE1052\n",
      "74 - 9437.0 - 0x00205F1510A1\n",
      "75 - 9133.0 - 0x00205F151186\n",
      "76 - 9107.0 - 0x00205EFE0EFC\n",
      "77 - 8934.0 - 0x00205F151025\n",
      "78 - 8741.0 - 0x00205F1510A7\n",
      "79 - 8402.0 - 0x00205F1510B1\n",
      "80 - 8210.0 - 0x00205EFB1709\n",
      "81 - 8052.0 - 0x00205F151031\n",
      "82 - 7967.0 - 0x00205F0908A2\n",
      "83 - 7836.0 - 0x00205F1510F4\n",
      "84 - 7818.0 - 0x00205EFE0F3F\n",
      "85 - 7751.0 - 0x00205F1510FF\n",
      "86 - 7013.0 - 0x00205F151106\n",
      "87 - 6691.0 - 0x00205F090096\n",
      "88 - 6521.0 - 0x00205EFB16DB\n",
      "89 - 6484.0 - 0x00205F151063\n",
      "90 - 6275.0 - 0x00205EFE0F22\n",
      "91 - 5722.0 - 0x00205F150A3A\n",
      "92 - 5593.0 - 0x00205EFE0E93\n",
      "93 - 5540.0 - 0x00205EFF1C55\n",
      "94 - 5400.0 - 0x00205EA90CD2\n",
      "95 - 5336.0 - 0x00205EFB1570\n",
      "96 - 5287.0 - 0x00205F1510E9\n",
      "97 - 4820.0 - 0x00205F151082\n",
      "98 - 4594.0 - 0x00205F090103\n",
      "99 - 4437.0 - 0x00205EFB151A\n",
      "100 - 3946.0 - 0x00205F15105C\n",
      "101 - 3114.0 - 0x00205F1510FC\n",
      "102 - 2733.0 - 0x00205EFB100F\n",
      "103 - 2339.0 - 0x00205F151085\n",
      "104 - 2266.0 - 0x00205F151105\n",
      "105 - 2201.0 - 0x00205EFB1269\n",
      "106 - 2180.0 - 0x00205F15110D\n",
      "107 - 2175.0 - 0x00205F15110C\n",
      "108 - 2122.0 - 0x00205F150E49\n",
      "109 - 2063.0 - 0x00205F1510D6\n",
      "110 - 1768.0 - 0x00205EFB0E82\n",
      "111 - 1574.0 - 0x00205F151079\n",
      "112 - 1138.0 - 0x00205F1510EE\n",
      "113 - 1006.0 - 0x00205F1510AE\n",
      "114 - 679.0 - 0x00205F150A38\n",
      "115 - 494.0 - 0x00205F090866\n",
      "116 - 328.0 - 0x00205EFB0E8D\n",
      "117 - 304.0 - 0x00205F15101F\n",
      "118 - 291.0 - 0x00205F1510F2\n",
      "119 - 276.0 - 0x00205F150CC7\n",
      "120 - 274.0 - 0x00205F1510A2\n",
      "121 - 271.0 - 0x00205F1510DC\n",
      "122 - 265.0 - 0x00205F150A5A\n",
      "123 - 260.0 - 0x00205F15105D\n",
      "124 - 253.0 - 0x00205F1510F7\n",
      "125 - 248.0 - 0x00205F1510B8\n",
      "126 - 140.0 - 0x00205F090209\n",
      "127 - 138.0 - 0x00205EFB16CF\n",
      "128 - 120.0 - 0x00205EFB16D9\n",
      "129 - 57.0 - 0x00205EFB13BE\n",
      "130 - 56.0 - 0x00205F090895\n",
      "131 - 51.0 - 0x00205EFE0F84\n",
      "132 - 47.0 - 0x00205EFB15C8\n",
      "133 - 2.0 - 0x00205F15108F\n",
      "134 - 1.0 - 0x00205EFF1CE9\n",
      "135 - 1.0 - 0x00205EFB115F\n",
      "136 - 1.0 - 0x00205F090079\n",
      "137 - 1.0 - 0x00205EFB1024\n",
      "138 - 1.0 - 0x00205F090075\n",
      "139 - 1.0 - 0x00205F0906FC\n",
      "140 - 1.0 - 0x00205EFB0DF3\n",
      "141 - 1.0 - 0x00205F0905B7\n",
      "142 - 1.0 - 0x00205F09060E\n",
      "143 - 1.0 - 0x00205EFB11DB\n",
      "144 - 1.0 - 0x00205EFB0F98\n",
      "145 - 1.0 - 0x00205F090686\n",
      "146 - 1.0 - 0x00205F090020\n",
      "147 - 1.0 - 0x00205EFE0F9B\n",
      "148 - 1.0 - 0x00205F090810\n",
      "149 - 1.0 - 0x00205EFE0EC9\n",
      "150 - 1.0 - 0x00205EFE0F6D\n",
      "151 - 1.0 - 0x00205EFE0FCD\n",
      "152 - 1.0 - 0x00205EFE1013\n",
      "153 - 1.0 - 0x00205EFE1017\n",
      "154 - 1.0 - 0x00205EFE0F17\n",
      "155 - 1.0 - 0x00205EFF1C25\n",
      "156 - 1.0 - 0x00205EFE0EFB\n",
      "157 - 1.0 - 0x00205EFF1C30\n",
      "158 - 1.0 - 0x00205EFF1C54\n",
      "159 - 1.0 - 0x00205EFE0ECA\n",
      "160 - 1.0 - 0x00205EFE0E84\n",
      "161 - 1.0 - 0x00205EFB12B6\n",
      "162 - 1.0 - 0x00205EA90C8B\n",
      "163 - 1.0 - 0x00205EFF1C5F\n",
      "164 - 1.0 - 0x00205EFB1577\n",
      "165 - 1.0 - 0x00205F0908FA\n",
      "166 - 1.0 - 0x00205EFB152A\n",
      "167 - 1.0 - 0x00205EFB14E5\n",
      "168 - 1.0 - 0x00205F1510B3\n",
      "169 - 1.0 - 0x00205EFB134B\n",
      "170 - 1.0 - 0x00205EFB1344\n",
      "171 - 1.0 - 0x00205F1510D5\n",
      "172 - 1.0 - 0x00205EA907AE\n"
     ]
    }
   ],
   "source": [
    "for i in range(len(n)):\n",
    "    print(f\"{i} - {n[i]} - {tag_df.keys()[i]}\")\n"
   ]
  },
  {
   "cell_type": "code",
   "execution_count": 20,
   "id": "f326d558",
   "metadata": {},
   "outputs": [
    {
     "name": "stdout",
     "output_type": "stream",
     "text": [
      "4622439\n",
      "4622400\n"
     ]
    }
   ],
   "source": [
    "#rimuove i carelli con solo 1 punto\n",
    "print(len(data))\n",
    "for i in range(134, len(n)):\n",
    "    data = data.loc[data['tag_id'] != tag_df.keys()[i]]\n",
    "\n",
    "print(len(data))"
   ]
  },
  {
   "cell_type": "markdown",
   "id": "e7667e1a",
   "metadata": {},
   "source": [
    "# Creazione Dataset primordiale"
   ]
  },
  {
   "cell_type": "code",
   "execution_count": null,
   "id": "afce4d6a",
   "metadata": {
    "scrolled": false
   },
   "outputs": [],
   "source": [
    "name_file = \"trajectories_2.csv\"\n",
    "\n",
    "file1 = open(name_file, \"a\") \n",
    "file1.write(\"id,tag_id,time,x,y,n_traj\\n\")\n",
    "file1.close()\n",
    "\n",
    "tag_df = data.groupby('tag_id')[\"x\"].count()\n",
    "valid_tag = []\n",
    "for i, t in enumerate(tag_df.keys()):\n",
    "    if tag_df.iloc[i] > 100:\n",
    "        valid_tag.append(t)\n",
    "\n",
    "num = 0\n",
    "start_time = time.time()\n",
    "for i, tag in enumerate(valid_tag):\n",
    "    t1_time = time.time()\n",
    "    sub_data = data.loc[data['tag_id'] == tag]\n",
    "    sub_data = sub_data.sort_values('time')\n",
    "    trajectories = rd.find_trajectory(sub_data, 1, 150, 1, 300)\n",
    "    print(f\"{(time.time() - t1_time)} seconds, tag: {tag}\")\n",
    "    for j, traj in enumerate(trajectories):\n",
    "        traj[\"n_traj\"] = num\n",
    "        traj.to_csv(name_file, mode=\"a\", header=False, index=True)\n",
    "        num+=1\n",
    "\n",
    "print(f\"TOTAL TIME: {(time.time() - start_time)/60} minutes\")\n"
   ]
  },
  {
   "cell_type": "code",
   "execution_count": 156,
   "id": "0a61adcf",
   "metadata": {},
   "outputs": [
    {
     "name": "stdout",
     "output_type": "stream",
     "text": [
      "Number of point for 0x00205EA90CD2 : 2712\n",
      "Number of unique points: 789\n",
      "Number of point for resampling trajectory: 796\n"
     ]
    }
   ],
   "source": [
    "trajectories = rd.read_trajectories('trajectories.csv')\n",
    "for idx, traj in enumerate(trajectories):\n",
    "    tag_id = traj.iloc[0][\"tag_id\"]\n",
    "    n_traj = traj.iloc[0][\"n_traj\"]\n",
    "    print(f\"Number of point for {tag_id} : {len(traj)}\")\n",
    "    traj = traj.drop_duplicates('time')\n",
    "    print(f\"Number of unique points: {len(traj)}\")\n",
    "    traj_resapled = traj.set_index('time', ).resample('3S').asfreq()\n",
    "    traj_resapled[\"x\"] = traj_resapled[\"x\"].interpolate(method='linear')\n",
    "    traj_resapled[\"y\"] = traj_resapled[\"y\"].interpolate(method='linear')\n",
    "    #traj_resapled[\"tag_id\"] = tag_id\n",
    "    #traj_resapled[\"n_traj\"] = n_traj\n",
    "    print(f\"Number of point for resampling trajectory: {len(traj_resapled)}\")\n",
    "    traj_resapled.reset_index(inplace=True)\n",
    "    #print(traj_resapled)\n",
    "    #traj_resapled.to_csv(\"trajectories_resampled_2.csv\", mode=\"a\", header=False, index=False)"
   ]
  },
  {
   "cell_type": "code",
   "execution_count": 93,
   "id": "f0dacf60",
   "metadata": {},
   "outputs": [
    {
     "name": "stdout",
     "output_type": "stream",
     "text": [
      "Start time: 2016-07-01 16:55:42\n",
      "End time: 2016-07-01 17:00:42\n",
      "Time delta: 0 days 00:05:00\n"
     ]
    },
    {
     "data": {
      "image/png": "[encoded data removed]",
      "text/plain": [
       "<Figure size 720x720 with 1 Axes>"
      ]
     },
     "metadata": {
      "needs_background": "light"
     },
     "output_type": "display_data"
    }
   ],
   "source": [
    "idx = 0\n",
    "fig, ax = plt.subplots(figsize=(10, 10))\n",
    "ax.set_xlim(-3.63, 49.7)\n",
    "ax.set_ylim(-3.08, 36.97)\n",
    "ax.grid()\n",
    "fig.tight_layout()\n",
    "\n",
    "traj = trajectories[idx]\n",
    "print(\"Start time:\", traj['time'].min())\n",
    "print(\"End time:\", traj['time'].max())\n",
    "print(\"Time delta:\", traj['time'].max() - traj['time'].min())\n",
    "y = traj['y'].values\n",
    "x = traj['x'].values\n",
    "ax.plot(x, y, f'.r')\n",
    "plt.show()"
   ]
  },
  {
   "cell_type": "markdown",
   "id": "c16f6edd",
   "metadata": {},
   "source": [
    "### Studies conducted to determine the best interpolation method"
   ]
  },
  {
   "cell_type": "markdown",
   "id": "38bfe44d",
   "metadata": {},
   "source": [
    "# Interpolazione LINEARE"
   ]
  },
  {
   "cell_type": "code",
   "execution_count": 3,
   "id": "2d89fde0",
   "metadata": {},
   "outputs": [],
   "source": [
    "trajectories = rd.read_trajectories('trajectories_2.csv')"
   ]
  },
  {
   "cell_type": "code",
   "execution_count": 4,
   "id": "cc04d626",
   "metadata": {},
   "outputs": [],
   "source": [
    "def inter_linear(traj):\n",
    "    tag_id = traj.iloc[0][\"tag_id\"]\n",
    "    n_traj = traj.iloc[0][\"n_traj\"]\n",
    "    traj = traj.drop_duplicates('time')\n",
    "    traj_resapled = traj.set_index('time', ).resample('1S').asfreq()\n",
    "    traj_resapled[\"x\"] = traj_resapled[\"x\"].interpolate(method='linear')\n",
    "    traj_resapled[\"y\"] = traj_resapled[\"y\"].interpolate(method='linear')\n",
    "    print(f\"Number of point for {tag_id} : {len(traj)}\")\n",
    "    print(f\"Number of unique points: {len(traj)}\")\n",
    "    print(f\"Number of point for resampling trajectory: {len(traj_resapled)}\")\n",
    "    traj_resapled.reset_index(inplace=True)  \n",
    "    return traj_resapled\n",
    "\n",
    "inter_linear(trajectories[5])"
   ]
  },
  {
   "cell_type": "code",
   "execution_count": 5,
   "id": "1037657d",
   "metadata": {},
   "outputs": [],
   "source": [
    "def inter_linear_2(traj):\n",
    "    traj = traj.drop_duplicates('time')\n",
    "    time_ts = traj['time'].apply(lambda x: x.value)\n",
    "\n",
    "    fx = interp1d(time_ts, traj[\"x\"],fill_value = \"extrapolate\" )\n",
    "    fy = interp1d(time_ts, traj[\"y\"],fill_value = \"extrapolate\" )\n",
    "\n",
    "    traj_resapled = traj.set_index('time', ).resample('1S').asfreq()\n",
    "    traj_resapled.reset_index(inplace=True)\n",
    "\n",
    "    for idx, row in traj_resapled.iterrows():\n",
    "        row = traj_resapled.loc[idx]\n",
    "        if math.isnan(row[\"x\"]):\n",
    "            timestamp = row[\"time\"].value\n",
    "            traj_resapled.at[idx, \"x\"] = fx(timestamp)\n",
    "\n",
    "        if math.isnan(row[\"y\"]):\n",
    "            timestamp = row[\"time\"].value\n",
    "            traj_resapled.at[idx, \"y\"] = fy(timestamp)\n",
    "\n",
    "    tag_id = traj.iloc[0][\"tag_id\"]\n",
    "    print(f\"Number of point for {tag_id} : {len(traj)}\")\n",
    "    print(f\"Number of unique points: {len(traj)}\")\n",
    "    print(f\"Number of point for resampling trajectory: {len(traj_resapled)}\")\n",
    "    return traj_resapled \n",
    "\n",
    "inter_linear_2(trajectories[5])"
   ]
  },
  {
   "cell_type": "markdown",
   "id": "c63001d0",
   "metadata": {},
   "source": [
    "# Interpolazione GAUSSIANA"
   ]
  },
  {
   "cell_type": "code",
   "execution_count": 6,
   "id": "32fd7aed",
   "metadata": {},
   "outputs": [],
   "source": [
    "def inter_gaussian(traj):\n",
    "    tag_id = traj.iloc[0][\"tag_id\"]\n",
    "    n_traj = traj.iloc[0][\"n_traj\"]\n",
    "    traj = traj.drop_duplicates('time')\n",
    "    traj_resapled = traj.set_index('time', ).resample('1S').asfreq()\n",
    "    x_g = traj_resapled[\"x\"].rolling(window=10, win_type='gaussian', center=True).mean(std=0.5)\n",
    "    y_g = traj_resapled[\"y\"].rolling(window=10, win_type='gaussian', center=True).mean(std=0.5)\n",
    "    \n",
    "    print(f\"Number of point for {tag_id} : {len(traj)}\")\n",
    "    print(f\"Number of unique points: {len(traj)}\")\n",
    "    print(f\"Number of point for resampling trajectory: {len(traj_resapled)}\")\n",
    "    traj_resapled.reset_index(inplace=True)  \n",
    "    return traj_resapled \n",
    "   \n",
    "    \n",
    "inter_gaussian(trajectories[5])"
   ]
  },
  {
   "cell_type": "markdown",
   "id": "4bca3832",
   "metadata": {},
   "source": [
    "# Exponential Smoothing"
   ]
  },
  {
   "cell_type": "code",
   "execution_count": 7,
   "id": "c4e19ed4",
   "metadata": {},
   "outputs": [],
   "source": [
    "def smoothing_exp(traj, alpha):\n",
    "    traj = traj.drop_duplicates('time')\n",
    "    traj_resapled = traj.set_index('time', ).resample('1S').asfreq()\n",
    "    traj_resapled[\"x\"] = traj_resapled[\"x\"].interpolate(method='linear')\n",
    "    traj_resapled[\"y\"] = traj_resapled[\"y\"].interpolate(method='linear')\n",
    "    traj_resapled.reset_index(inplace=True)\n",
    "    \n",
    "    for idx, row in traj_resapled.iterrows():\n",
    "        if idx == 0:\n",
    "            traj_resapled.at[idx, \"x\"] = row[\"x\"]\n",
    "            traj_resapled.at[idx, \"y\"] = row[\"y\"]\n",
    "        else:\n",
    "            old_row = traj_resapled.iloc[idx-1]\n",
    "            traj_resapled.at[idx, \"x\"] = alpha*row[\"x\"] + (1-alpha)*old_row[\"x\"]\n",
    "            traj_resapled.at[idx, \"y\"] = alpha*row[\"y\"] + (1-alpha)*old_row[\"y\"]\n",
    "    \n",
    "    tag_id = traj.iloc[0][\"tag_id\"]\n",
    "    print(f\"Number of point for {tag_id} : {len(traj)}\")\n",
    "    print(f\"Number of unique points: {len(traj)}\")\n",
    "    print(f\"Number of point for resampling trajectory: {len(traj_resapled)}\")\n",
    "    return traj_resapled \n",
    "\n",
    "smoothing_exp(trajectories[5], 0.3)"
   ]
  },
  {
   "cell_type": "code",
   "execution_count": 8,
   "id": "a5211eb9",
   "metadata": {},
   "outputs": [],
   "source": [
    "def smoothing_inter_exp(traj, alpha):\n",
    "    \n",
    "    tag_id = traj[\"tag_id\"].iloc[0]\n",
    "    print(f\"Number of point for {tag_id} : {len(traj)}\")\n",
    "    \n",
    "    traj = traj.drop_duplicates('time')\n",
    "    traj.reset_index(inplace=True, drop= True)\n",
    "\n",
    "    for idx, row in traj.iterrows():\n",
    "        if idx == 0:\n",
    "            traj.at[idx, \"x\"] = row[\"x\"]\n",
    "            traj.at[idx, \"y\"] = row[\"y\"]\n",
    "        else:\n",
    "            old_row = traj.iloc[idx-1]\n",
    "            traj.at[idx, \"x\"] = alpha*row[\"x\"] + (1-alpha)*old_row[\"x\"]\n",
    "            traj.at[idx, \"y\"] = alpha*row[\"y\"] + (1-alpha)*old_row[\"y\"]\n",
    "\n",
    "    traj_resapled = traj.set_index('time').resample('1S').asfreq()\n",
    "    traj_resapled[\"x\"] = traj_resapled[\"x\"].interpolate(method='linear')\n",
    "    traj_resapled[\"y\"] = traj_resapled[\"y\"].interpolate(method='linear')\n",
    "\n",
    "    print(f\"Number of unique points: {len(traj)}\")\n",
    "    print(f\"Number of point for resampling trajectory: {len(traj_resapled)}\")\n",
    "    return traj_resapled \n",
    "\n",
    "result = smoothing_inter_exp(trajectories[200], 0.4)"
   ]
  },
  {
   "cell_type": "code",
   "execution_count": 3,
   "id": "67598196",
   "metadata": {},
   "outputs": [],
   "source": [
    "#DEPRECATED\n",
    "# Da usare per resample < 1 sec\n",
    "\n",
    "def smoothing_inter_exp(traj, alpha):\n",
    "    \n",
    "    tag_id = traj[\"tag_id\"].iloc[0]\n",
    "    print(f\"Number of point for {tag_id} : {len(traj)}\")\n",
    "    \n",
    "    for idx, row in traj.iterrows():\n",
    "        if idx == 0:\n",
    "            traj.at[idx, \"x\"] = row[\"x\"]\n",
    "            traj.at[idx, \"y\"] = row[\"y\"]\n",
    "        else:\n",
    "            old_row = traj.iloc[idx-1]\n",
    "            traj.at[idx, \"x\"] = alpha*row[\"x\"] + (1-alpha)*old_row[\"x\"]\n",
    "            traj.at[idx, \"y\"] = alpha*row[\"y\"] + (1-alpha)*old_row[\"y\"]\n",
    "\n",
    "    traj_resapled = traj.set_index('time').resample('0.4S', origin = \"start\").asfreq()\n",
    "    traj_resapled[\"x\"] = traj_resapled[\"x\"].interpolate(method='linear')\n",
    "    traj_resapled[\"y\"] = traj_resapled[\"y\"].interpolate(method='linear')\n",
    "\n",
    "    print(f\"Number of unique points: {len(traj)}\")\n",
    "    print(f\"Number of point for resampling trajectory: {len(traj_resapled)}\")\n",
    "    return traj_resapled \n"
   ]
  },
  {
   "cell_type": "code",
   "execution_count": 4,
   "id": "32f7abbc",
   "metadata": {
    "scrolled": true
   },
   "outputs": [],
   "source": [
    "# Da usare per resample < 1 sec\n",
    "def smoothing_double_exp(traj, alpha, alpha2):\n",
    "    \n",
    "    n_traj = traj[\"n_traj\"].iloc[0]\n",
    "    tag_id = traj[\"tag_id\"].iloc[0]\n",
    "    \n",
    "    traj = traj.drop_duplicates('time')\n",
    "    traj.reset_index(inplace=True, drop= True)\n",
    "\n",
    "    for idx, row in traj.iterrows():\n",
    "        if idx == 0:\n",
    "            traj.at[idx, \"x\"] = row[\"x\"]\n",
    "            traj.at[idx, \"y\"] = row[\"y\"]\n",
    "        else:\n",
    "            old_row = traj.iloc[idx-1]\n",
    "            traj.at[idx, \"x\"] = alpha*row[\"x\"] + (1-alpha)*old_row[\"x\"]\n",
    "            traj.at[idx, \"y\"] = alpha*row[\"y\"] + (1-alpha)*old_row[\"y\"]\n",
    "    \n",
    "    traj.set_index('time', inplace = True)\n",
    "    oidx = traj.index\n",
    "    nidx = pd.date_range(oidx.min(), oidx.max(), freq='1s') # CAMBIARE FREQUENZA\n",
    "    traj_resapled = traj.reindex(oidx.union(nidx))\n",
    "    traj_resapled[\"x\"] = traj_resapled[\"x\"].interpolate(method='linear')\n",
    "    traj_resapled[\"y\"] = traj_resapled[\"y\"].interpolate(method='linear')\n",
    "    traj_resapled = traj_resapled.reindex(nidx)\n",
    "    traj_resapled[\"n_traj\"] = n_traj\n",
    "    traj_resapled[\"tag_id\"] = tag_id\n",
    " \n",
    "    traj_resapled.reset_index(inplace=True, drop= False)\n",
    "    traj_resapled.rename(columns = {\"index\":\"time\"}, inplace = True)\n",
    "    \n",
    "    for idx, row in traj_resapled.iterrows():\n",
    "        if idx == 0:\n",
    "            traj_resapled.at[idx, \"x\"] = row[\"x\"]\n",
    "            traj_resapled.at[idx, \"y\"] = row[\"y\"]\n",
    "        else:\n",
    "            old_row = traj_resapled.iloc[idx-1]\n",
    "            traj_resapled.at[idx, \"x\"] = alpha2*row[\"x\"] + (1-alpha2)*old_row[\"x\"]\n",
    "            traj_resapled.at[idx, \"y\"] = alpha2*row[\"y\"] + (1-alpha2)*old_row[\"y\"] \n",
    "    \n",
    "    traj_resapled = traj_resapled[[\"id\",\"tag_id\",\"time\",\"x\",\"y\",\"n_traj\"]]\n",
    "\n",
    "   \n",
    "    return traj_resapled \n"
   ]
  },
  {
   "cell_type": "code",
   "execution_count": 51,
   "id": "dad3c606",
   "metadata": {
    "scrolled": false
   },
   "outputs": [
    {
     "name": "stdout",
     "output_type": "stream",
     "text": [
      "Number of point for 0x00205F151186 : 368\n",
      "Number of unique points: 368\n",
      "Number of point for resampling trajectory: 2194\n",
      "Number of point for 0x00205F151186 : 368\n",
      "Number of unique points: 368\n",
      "Number of point for resampling trajectory: 2194\n",
      "Number of point for 0x00205F151186 : 368\n",
      "Number of unique points: 368\n",
      "Number of point for resampling trajectory: 2194\n",
      "Number of point for 0x00205F151186 : 368\n",
      "Number of unique points: 368\n",
      "Number of point for resampling trajectory: 2194\n",
      "Number of point for 0x00205F151186 : 417\n",
      "Number of unique points: 368\n",
      "Number of point for resampling trajectory: 2194\n"
     ]
    },
    {
     "data": {
      "image/png": "[encoded data removed]",
      "text/plain": [
       "<Figure size 720x720 with 1 Axes>"
      ]
     },
     "metadata": {
      "needs_background": "light"
     },
     "output_type": "display_data"
    }
   ],
   "source": [
    "\"\"\"\n",
    "- le due inter lineari sono uguali (sovraposizioni dei punti)\n",
    "- la gaussiana è troppo dispersiva (manca andamento generale della traiettoria)\n",
    "- con smoothing esponenziale dipende \n",
    "    ~ alpha grande: da più importanza al punto corrente \n",
    "    ~ alpha piccolo: crea un andamento generale\n",
    "\"\"\"\n",
    "path_image = \"E:\\\\Università\\\\Magistrale\\\\TESI_MAG\\\\Tesi_magistrale\\\\img\"\n",
    "\n",
    "#4233 3878\n",
    "traj = trajectories[4233]\n",
    "d1 = inter_linear(traj)\n",
    "d2 = inter_gaussian(traj)\n",
    "d3 = smoothing_exp(traj, 0.4)\n",
    "d4 = inter_linear_2(traj)\n",
    "d5 = smoothing_inter_exp(traj, 0.4)\n",
    "\n",
    "\n",
    "fig, ax = plt.subplots(figsize=(10, 10))\n",
    "ax.set_xlim(-3.63, 49.7)\n",
    "ax.set_ylim(-3.08, 36.97)\n",
    "ax.grid()\n",
    "fig.tight_layout()\n",
    "\n",
    "y = traj['y'].values\n",
    "x = traj['x'].values\n",
    "p, = ax.plot(x, y, f'.k')\n",
    "\n",
    "#LINEARE 1\n",
    "y1 = d1['y'].values\n",
    "x1 = d1['x'].values\n",
    "#p1, = ax.plot(x1, y1, f'.b')\n",
    "\n",
    "#GAUSSIANA\n",
    "y2 = d2['y'].values\n",
    "x2 = d2['x'].values\n",
    "#p2, = ax.plot(x2, y2, f'.g')\n",
    "\n",
    "#LINEAR + SMOOTHING\n",
    "y3 = d3['y'].values\n",
    "x3 = d3['x'].values\n",
    "#p3, = ax.plot(x3, y3, f'.r')\n",
    "\n",
    "#LINEARE 2\n",
    "y4 = d4['y'].values\n",
    "x4 = d4['x'].values\n",
    "#p4, = ax.plot(x4, y4, f'.y')\n",
    "\n",
    "#SMOOTHING + LINEAR\n",
    "y5 = d5['y'].values\n",
    "x5 = d5['x'].values\n",
    "p5, = ax.plot(x5, y5, f'.y')\n",
    "\n",
    "plt.savefig(f\"{path_image}\\\\traj-smooth2.png\")\n",
    "\n",
    "plt.show()"
   ]
  },
  {
   "cell_type": "markdown",
   "id": "9594c3b1",
   "metadata": {},
   "source": [
    "# Re-sampling + Interpolazione"
   ]
  },
  {
   "cell_type": "code",
   "execution_count": 4,
   "id": "210b04b9",
   "metadata": {},
   "outputs": [],
   "source": [
    "trajectories = rd.read_trajectories(\"trajectories_2.csv\")"
   ]
  },
  {
   "cell_type": "code",
   "execution_count": 23,
   "id": "9ea41bed",
   "metadata": {},
   "outputs": [],
   "source": [
    "# DEPRECATO\n",
    "def add_decSeconds(trajectories):\n",
    "    new_trajectories = []\n",
    "    for idx, traj in enumerate(tqdm(trajectories)):\n",
    "        new_time = []\n",
    "        new_time.append(traj.iloc[0][\"time\"])\n",
    "\n",
    "        for i in range(1, len(traj)):\n",
    "            row = traj.iloc[i]\n",
    "            previous = new_time[i - 1]\n",
    "\n",
    "            if previous >= row[\"time\"]:\n",
    "                new_time.append(previous + datetime.timedelta(seconds=0.4))\n",
    "            else:\n",
    "                time_delta = (row[\"time\"] - previous).total_seconds()\n",
    "                rest = (time_delta * 10) % 4\n",
    "                new_time.append(row[\"time\"] + datetime.timedelta(seconds=rest / 10))\n",
    "\n",
    "        traj[\"time\"] = new_time\n",
    "        new_trajectories.append(traj)\n",
    "    return new_trajectories"
   ]
  },
  {
   "cell_type": "code",
   "execution_count": 26,
   "id": "64005d56",
   "metadata": {},
   "outputs": [
    {
     "data": {
      "text/html": [
       "<div>\n",
       "<style scoped>\n",
       "    .dataframe tbody tr th:only-of-type {\n",
       "        vertical-align: middle;\n",
       "    }\n",
       "\n",
       "    .dataframe tbody tr th {\n",
       "        vertical-align: top;\n",
       "    }\n",
       "\n",
       "    .dataframe thead th {\n",
       "        text-align: right;\n",
       "    }\n",
       "</style>\n",
       "<table border=\"1\" class=\"dataframe\">\n",
       "  <thead>\n",
       "    <tr style=\"text-align: right;\">\n",
       "      <th></th>\n",
       "      <th>id</th>\n",
       "      <th>tag_id</th>\n",
       "      <th>time</th>\n",
       "      <th>x</th>\n",
       "      <th>y</th>\n",
       "      <th>n_traj</th>\n",
       "    </tr>\n",
       "  </thead>\n",
       "  <tbody>\n",
       "  </tbody>\n",
       "</table>\n",
       "</div>"
      ],
      "text/plain": [
       "Empty DataFrame\n",
       "Columns: [id, tag_id, time, x, y, n_traj]\n",
       "Index: []"
      ]
     },
     "execution_count": 26,
     "metadata": {},
     "output_type": "execute_result"
    }
   ],
   "source": [
    "# PER VEDERE DUPPLICATI NEL TEMPO\n",
    "d= traj[traj.duplicated(subset = \"time\", keep=False)]\n",
    "d"
   ]
  },
  {
   "cell_type": "code",
   "execution_count": 5,
   "id": "3c4364fa",
   "metadata": {
    "scrolled": true
   },
   "outputs": [
    {
     "data": {
      "application/vnd.jupyter.widget-view+json": {
       "model_id": "5235118410764e7eb3cddb97d22fb7f8",
       "version_major": 2,
       "version_minor": 0
      },
      "text/plain": [
       "  0%|          | 0/4283 [00:00<?, ?it/s]"
      ]
     },
     "metadata": {},
     "output_type": "display_data"
    }
   ],
   "source": [
    "\n",
    "name_file = \"trajectories_2_resampled_1s.csv\"\n",
    "file1 = open(name_file, \"a\") \n",
    "file1.write(\"id,tag_id,time,x,y,n_traj\\n\")\n",
    "file1.close()\n",
    "\n",
    "for idx, traj in enumerate(tqdm(trajectories)):\n",
    "\n",
    "    resampled_traj = smoothing_double_exp(traj, 0.4, 0.25)\n",
    "    \n",
    "    resampled_traj[\"x\"] = resampled_traj[\"x\"].round(3)\n",
    "    resampled_traj[\"y\"] = resampled_traj[\"y\"].round(3)\n",
    "\n",
    "    resampled_traj.to_csv(name_file, mode=\"a\", header=False, index=False)\n",
    "    \n",
    "       "
   ]
  },
  {
   "cell_type": "code",
   "execution_count": 12,
   "id": "b3e701df",
   "metadata": {
    "scrolled": false
   },
   "outputs": [
    {
     "data": {
      "text/plain": [
       "4283"
      ]
     },
     "execution_count": 12,
     "metadata": {},
     "output_type": "execute_result"
    }
   ],
   "source": [
    "trajectories = rd.read_trajectories('trajectories_2_resampled_04s.csv')\n",
    "len(trajectories)"
   ]
  }
 ],
 "metadata": {
  "kernelspec": {
   "display_name": "Python 3",
   "language": "python",
   "name": "python3"
  },
  "language_info": {
   "codemirror_mode": {
    "name": "ipython",
    "version": 3
   },
   "file_extension": ".py",
   "mimetype": "text/x-python",
   "name": "python",
   "nbconvert_exporter": "python",
   "pygments_lexer": "ipython3",
   "version": "3.9.5"
  }
 },
 "nbformat": 4,
 "nbformat_minor": 5
}
