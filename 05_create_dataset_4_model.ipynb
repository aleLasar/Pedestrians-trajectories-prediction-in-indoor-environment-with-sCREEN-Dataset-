{
 "cells": [
  {
   "cell_type": "markdown",
   "id": "9b8edd8f",
   "metadata": {},
   "source": [
    "# Print dataset in format for model"
   ]
  },
  {
   "cell_type": "code",
   "execution_count": 2,
   "id": "0c345cc6",
   "metadata": {},
   "outputs": [],
   "source": [
    "import pandas as pd\n",
    "import numpy as np2\n",
    "import math\n",
    "import matplotlib.pyplot as plt\n",
    "import datetime as dt\n",
    "import time\n",
    "import random\n",
    "from refainedLibrary_v3 import *\n",
    "from statsmodels.tsa.api import Holt\n",
    "from scipy.interpolate import *\n",
    "\n",
    "from IPython.display import clear_output\n",
    "\n",
    "from tqdm.notebook import tqdm\n"
   ]
  },
  {
   "cell_type": "markdown",
   "id": "bc3a6573",
   "metadata": {},
   "source": [
    "\n",
    "trajectories_2_resampled_04s SINGLE SMOOTH\n",
    "\n",
    "trajectories_2_resampled_04s_bis DOPPIO SMOOTH"
   ]
  },
  {
   "cell_type": "code",
   "execution_count": 3,
   "id": "f03135a8",
   "metadata": {},
   "outputs": [],
   "source": [
    "rd = Refained_Data('sCREEN-dataset.txt')\n",
    "#trajectories = rd.read_trajectories(\"trajectories_2_resampled_04s_bis.csv\")\n",
    "trajectories = rd.read_trajectories(\"trajectories_2_resampled_1s_shifted.csv\")"
   ]
  },
  {
   "cell_type": "code",
   "execution_count": 4,
   "id": "d4483db0",
   "metadata": {
    "scrolled": false
   },
   "outputs": [
    {
     "data": {
      "text/plain": [
       "4283"
      ]
     },
     "execution_count": 4,
     "metadata": {},
     "output_type": "execute_result"
    }
   ],
   "source": [
    "len(trajectories)"
   ]
  },
  {
   "cell_type": "code",
   "execution_count": 8,
   "id": "3628ad6f",
   "metadata": {},
   "outputs": [],
   "source": [
    "# DEPRECATED\n",
    "\n",
    "\"\"\"\n",
    "    Set the points in format for the models\n",
    "    data: dataframe of points order by \"time\"\n",
    "    time_delta: number of seconds for frame. Every frame is bigger as time_delta and inside it there are a certain number of point\n",
    "    \n",
    "    RETURN: dataframe with n collumn (n = # of frame) and 4 rows (n_frame, n_traj, x, y)\n",
    "\"\"\"\n",
    "\n",
    "def get_data_in_format(data, time_delta):\n",
    "    return_df = pd.DataFrame(columns = [\"n_frame\", \"n_traj\", \"x\", \"y\"])\n",
    "    end = st = 0\n",
    "    n_frame = 0\n",
    "    \n",
    "    for i in tqdm(range(len(data))):\n",
    "        delta_time = data.iloc[i][\"time\"] - data.iloc[st][\"time\"]\n",
    "        \n",
    "        if delta_time.seconds <= time_delta - 1:\n",
    "            end = i\n",
    "        else:\n",
    "            time_frame = data.iloc[st:end + 1]                                  \n",
    "            time_frame.drop([\"id\", \"tag_id\", \"time\"], axis = 1, inplace = True)\n",
    "            time_frame[\"n_frame\"] = n_frame\n",
    "            return_df = return_df.append(time_frame)                    \n",
    "            n_frame += 1            \n",
    "            end = st = i\n",
    "        \n",
    "        if i == len(data)-1:\n",
    "            time_frame = data.iloc[st:end + 1]                                  \n",
    "            time_frame.drop([\"id\", \"tag_id\", \"time\"], axis = 1, inplace = True)\n",
    "            time_frame[\"n_frame\"] = n_frame\n",
    "            return_df = return_df.append(time_frame)      \n",
    "\n",
    "    return return_df.T\n",
    "\n",
    "\n",
    "\"\"\"\n",
    "    Given a list return the data ready for the model\n",
    "    trajecotries: list of dataframe. every element inside the list is a trajectory\n",
    "    thrs: treshold. How many traj for training and how many for test set\n",
    "    \n",
    "    RETURN: two dataframe. The first is the training set, the second is the test set\n",
    "\"\"\"\n",
    "\n",
    "def get_data_4_model(trajectories, thrs):\n",
    "    #trajectories = rd.read_trajectories(PATH)\n",
    "        \n",
    "    resampled_traj = list(map(lambda x: x.iloc[::2], trajectories))\n",
    "    all_trajectories = pd.concat(resampled_traj)\n",
    "    \n",
    "    max_n = 1000\n",
    "    n_4_train = random.sample(range(0,max_n+1), int(max_n*thrs))\n",
    "    n_4_test = [x for x in range(max_n) if x not in n_4_train]   \n",
    "\n",
    "    train = all_trajectories[all_trajectories[\"n_traj\"].isin(n_4_train)]\n",
    "    train = train.sort_values('time').reset_index(drop=True)\n",
    "    test = all_trajectories[all_trajectories[\"n_traj\"].isin(n_4_test)]\n",
    "    test = test.sort_values('time').reset_index(drop=True)\n",
    "    \n",
    "    train_data = get_data_in_format(train, 2)\n",
    "    test_data = get_data_in_format(test, 2)\n",
    "    \n",
    "    print(n_4_train)\n",
    "    print(n_4_test)\n",
    "    \n",
    "    return train_data, test_data\n"
   ]
  },
  {
   "cell_type": "code",
   "execution_count": null,
   "id": "a5401ac6",
   "metadata": {},
   "outputs": [],
   "source": [
    "n_4_train = [27, 375, 855, 418, 494, 155, 387, 72, 761, 322, 632, 105, 707, 216, 189, 837, 714, 637, 720, 102, 763, 486, 265, 575, 944, 470, 610, 33, 223, 71, 676, 294, 424, 843, 733, 315, 542, 678, 998, 159, 850, 164, 729, 454, 281, 19, 764, 895, 749, 514, 667, 563, 926, 701, 948, 280, 510, 721, 383, 565, 796, 726, 661, 854, 451, 672, 461, 662, 521, 849, 477, 4, 419, 108, 480, 668, 917, 256, 560, 857, 392, 278, 459, 644, 285, 879, 207, 196, 329, 231, 943, 533, 420, 253, 396, 446, 183, 856, 436, 653, 983, 212, 705, 484, 24, 753, 427, 463, 112, 364, 803, 145, 327, 469, 195, 977, 935, 807, 97, 267, 411, 633, 262, 15, 810, 896, 464, 673, 61, 670, 127, 111, 773, 509, 430, 621, 694, 890, 185, 912, 273, 408, 846, 601, 985, 723, 180, 40, 296, 945, 402, 94, 822, 762, 940, 14, 299, 30, 900, 959, 175, 326, 276, 790, 32, 76, 320, 608, 9, 248, 274, 738, 37, 176, 540, 232, 138, 899, 305, 150, 354, 656, 934, 6, 643, 567, 630, 113, 671, 252, 894, 902, 66, 871, 526, 980, 68, 674, 536, 853, 544, 18, 204, 357, 523, 747, 590, 336, 814, 445, 695, 126, 441, 901, 571, 47, 246, 539, 972, 892, 782, 239, 548, 214, 792, 473, 114, 46, 524, 642, 995, 646, 949, 429, 335, 860, 266, 905, 226, 946, 641, 168, 908, 817, 845, 190, 765, 74, 684, 868, 928, 130, 657, 566, 602, 652, 927, 920, 75, 541, 260, 677, 639, 768, 341, 755, 323, 468, 953, 457, 611, 829, 89, 893, 347, 623, 906, 440, 727, 936, 620, 472, 227, 597, 404, 505, 604, 629, 797, 852, 337, 706, 585, 415, 499, 914, 497, 498, 704, 546, 235, 358, 433, 194, 5, 99, 307, 691, 182, 350, 699, 49, 91, 425, 780, 960, 703, 53, 913, 618, 325, 709, 401, 651, 719, 388, 579, 140, 219, 83, 587, 181, 431, 982, 416, 941, 950, 339, 289, 17, 996, 742, 172, 434, 554, 766, 166, 545, 724, 872, 751, 57, 308, 527, 136, 121, 96, 148, 213, 417, 537, 7, 839, 774, 838, 690, 251, 103, 532, 784, 507, 199, 568, 979, 580, 177, 403, 154, 836, 400, 793, 600, 487, 328, 491, 835, 616, 832, 603, 974, 758, 504, 178, 798, 100, 581, 134, 162, 80, 708, 174, 125, 69, 988, 365, 543, 376, 907, 862, 135, 635, 60, 217, 767, 467, 962, 393, 976, 422, 475, 395, 410, 737, 617, 535, 772, 197, 660, 225, 479, 625, 654, 348, 378, 50, 508, 124, 55, 811, 233, 272, 489, 881, 330, 981, 363, 615, 277, 777, 123, 502, 110, 924, 391, 994, 98, 680, 750, 316, 84, 869, 512, 379, 390, 802, 367, 844, 258, 612, 880, 81, 528, 696, 744, 882, 592, 191, 506, 583, 78, 801, 370, 978, 687, 211, 675, 343, 156, 186, 117, 353, 986, 452, 993, 147, 870, 947, 466, 717, 242, 82, 143, 483, 556, 910, 728, 606, 897, 599, 318, 414, 638, 538, 964, 369, 342, 496, 312, 965, 718, 465, 284, 649, 760, 428, 748, 770, 922, 688, 929, 282, 800, 448, 250, 698, 815, 813, 255, 971, 295, 43, 366, 681, 501, 10, 818, 865, 552, 557, 735, 90, 79, 192, 362, 669, 968, 144, 1000, 722, 31, 785, 842, 786, 288, 884, 423, 659, 958, 825, 992, 0, 702, 222, 873, 519, 787, 831, 453, 2, 969, 209, 67, 520, 756, 118, 426, 820, 804, 990, 493, 173, 791, 133, 380, 371, 848, 874, 515, 101, 823, 20, 86, 56, 549, 298, 711, 52, 655, 444, 725, 598, 942, 42, 867, 45, 591, 740, 474, 270, 221, 700, 891, 54, 613, 627, 488, 476, 344, 503, 525, 741, 937, 293, 292, 28, 626, 824, 495, 485, 679, 769, 163, 407, 70, 462, 663, 202, 500, 781, 775, 241, 1, 346, 957, 732, 809, 841, 286, 398, 883, 712, 634, 664, 149, 961, 300, 551, 847, 249, 686, 119, 151, 275, 314, 373, 692, 93, 65, 840, 697, 577, 188, 628, 319, 447, 875, 951, 799, 171, 666, 915, 833, 331, 665, 349, 819, 861, 240, 588, 87, 877, 44, 932, 23, 334, 816, 582, 851, 650, 263, 522, 745, 471, 311, 129, 116, 904, 788, 257, 573, 304, 244, 137, 555, 16, 783, 531, 229, 886, 215, 157, 456, 594, 987, 8, 412, 106, 919, 866, 805, 310, 478, 210, 443, 435, 716, 570, 193, 450, 36, 455, 888, 386, 85, 95, 421, 889, 230, 834, 77, 658, 88, 41, 887, 967, 109, 806, 885, 283, 438, 161, 991, 460, 303, 911, 713, 921, 389, 22, 247, 306, 237, 62, 636, 736, 63, 384, 152, 930, 332, 333, 399, 576, 595, 682, 624, 437, 685, 997, 966]\n",
    "n_4_test = [3, 11, 12, 13, 21, 25, 26, 29, 34, 35, 38, 39, 48, 51, 58, 59, 64, 73, 92, 104, 107, 115, 120, 122, 128, 131, 132, 139, 141, 142, 146, 153, 158, 160, 165, 167, 169, 170, 179, 184, 187, 198, 200, 201, 203, 205, 206, 208, 218, 220, 224, 228, 234, 236, 238, 243, 245, 254, 259, 261, 264, 268, 269, 271, 279, 287, 290, 291, 297, 301, 302, 309, 313, 317, 321, 324, 338, 340, 345, 351, 352, 355, 356, 359, 360, 361, 368, 372, 374, 377, 381, 382, 385, 394, 397, 405, 406, 409, 413, 432, 439, 442, 449, 458, 481, 482, 490, 492, 511, 513, 516, 517, 518, 529, 530, 534, 547, 550, 553, 558, 559, 561, 562, 564, 569, 572, 574, 578, 584, 586, 589, 593, 596, 605, 607, 609, 614, 619, 622, 631, 640, 645, 647, 648, 683, 689, 693, 710, 715, 730, 731, 734, 739, 743, 746, 752, 754, 757, 759, 771, 776, 778, 779, 789, 794, 795, 808, 812, 821, 826, 827, 828, 830, 858, 859, 863, 864, 876, 878, 898, 903, 909, 916, 918, 923, 925, 931, 933, 938, 939, 952, 954, 955, 956, 963, 970, 973, 975, 984, 989, 999]\n"
   ]
  },
  {
   "cell_type": "code",
   "execution_count": 5,
   "id": "b896bd1e",
   "metadata": {},
   "outputs": [],
   "source": [
    "\"\"\"\n",
    "    Set the points in format for the models\n",
    "    data: dataframe of points order by \"time\"\n",
    "    time_delta: number of seconds for frame. Every frame is bigger as time_delta and inside it there are a certain number of point\n",
    "    \n",
    "    RETURN: dataframe with n collumn (n = # of frame) and 4 rows (n_frame, n_traj, x, y)\n",
    "\"\"\"\n",
    "def get_data_in_format(data, time_delta):\n",
    "    return_df = pd.DataFrame(columns=[\"n_frame\", \"n_traj\", \"x\", \"y\"])\n",
    "    st = data.iloc[0]\n",
    "\n",
    "    n_frame = 0\n",
    "\n",
    "    dictionary_list = []\n",
    "\n",
    "    dictionary_data = {\n",
    "        \"n_frame\": n_frame,\n",
    "        \"n_traj\": st[\"n_traj\"],\n",
    "        \"x\": st[\"x\"],\n",
    "        \"y\": st[\"y\"]\n",
    "    }\n",
    "    dictionary_list.append(dictionary_data)\n",
    "\n",
    "\n",
    "    for i in tqdm(range(1, len(data))):\n",
    "        row = data.iloc[i]\n",
    "        delta_time = row[\"time\"] - st[\"time\"]\n",
    "\n",
    "        if delta_time.total_seconds() < time_delta:\n",
    "            dictionary_data = {\n",
    "                \"n_frame\": n_frame,\n",
    "                \"n_traj\": row[\"n_traj\"],\n",
    "                \"x\": row[\"x\"],\n",
    "                \"y\": row[\"y\"]\n",
    "            }\n",
    "            dictionary_list.append(dictionary_data)\n",
    "        else:\n",
    "            st = row.copy()\n",
    "            n_frame += 1\n",
    "            dictionary_data = {\n",
    "                \"n_frame\": n_frame,\n",
    "                \"n_traj\": row[\"n_traj\"],\n",
    "                \"x\": row[\"x\"],\n",
    "                \"y\": row[\"y\"]\n",
    "            }\n",
    "            dictionary_list.append(dictionary_data)\n",
    "\n",
    "    return_df = pd.DataFrame.from_dict(dictionary_list)\n",
    "    return return_df.T\n",
    "\n",
    "\"\"\"\n",
    "    Given a list return the data ready for the model\n",
    "    trajecotries: list of dataframe. every element inside the list is a trajectory\n",
    "    thrs: treshold. How many traj for training and how many for test set\n",
    "    \n",
    "    RETURN: two dataframe. The first is the training set, the second is the test set\n",
    "\"\"\"\n",
    "\n",
    "def get_data_4_model(trajectories, thrs, dim_frame):\n",
    "\n",
    "    all_trajectories = pd.concat(trajectories)\n",
    "    dim = len(trajectories)\n",
    "    \n",
    "    \n",
    "    n_4_train = random.sample(range(0,dim+1), int(dim*thrs))\n",
    "    n_4_test = [x for x in range(dim) if x not in n_4_train]   \n",
    "\n",
    "    \n",
    "    train = all_trajectories[all_trajectories[\"n_traj\"].isin(n_4_train)]\n",
    "    train = train.sort_values('time').reset_index(drop=True)\n",
    "    test = all_trajectories[all_trajectories[\"n_traj\"].isin(n_4_test)]\n",
    "    test = test.sort_values('time').reset_index(drop=True)\n",
    "\n",
    "    train_data = get_data_in_format(train, dim_frame)\n",
    "    test_data = get_data_in_format(test, dim_frame)\n",
    "\n",
    "\n",
    "    return train_data, test_data"
   ]
  },
  {
   "cell_type": "code",
   "execution_count": 6,
   "id": "ac6bf296",
   "metadata": {
    "scrolled": false
   },
   "outputs": [
    {
     "data": {
      "application/vnd.jupyter.widget-view+json": {
       "model_id": "345422ed37a9499d9f6001b3a27665a7",
       "version_major": 2,
       "version_minor": 0
      },
      "text/plain": [
       "  0%|          | 0/4959859 [00:00<?, ?it/s]"
      ]
     },
     "metadata": {},
     "output_type": "display_data"
    },
    {
     "data": {
      "application/vnd.jupyter.widget-view+json": {
       "model_id": "e9382cb6c54d4c25b765f2fd305b6129",
       "version_major": 2,
       "version_minor": 0
      },
      "text/plain": [
       "  0%|          | 0/1260065 [00:00<?, ?it/s]"
      ]
     },
     "metadata": {},
     "output_type": "display_data"
    }
   ],
   "source": [
    "train, test = get_data_4_model(trajectories, 0.8, 1)"
   ]
  },
  {
   "cell_type": "code",
   "execution_count": 7,
   "id": "c158348c",
   "metadata": {
    "scrolled": true
   },
   "outputs": [],
   "source": [
    "train.to_csv(\"shifted_2_1s.csv\", mode=\"a\", header=False, index=False)\n",
    "test.to_csv(\"shifted_2_1s_test.csv\", mode=\"a\", header=False, index=False)\n"
   ]
  },
  {
   "cell_type": "code",
   "execution_count": 6,
   "id": "4eb7d57b",
   "metadata": {},
   "outputs": [],
   "source": [
    "train.to_csv(\"completo_NOshifted_2_04s.csv\", mode=\"a\", header=False, index=False)\n",
    "test.to_csv(\"completo_NOshifted_2_04s_test.csv\", mode=\"a\", header=False, index=False)\n"
   ]
  }
 ],
 "metadata": {
  "kernelspec": {
   "display_name": "Python 3",
   "language": "python",
   "name": "python3"
  },
  "language_info": {
   "codemirror_mode": {
    "name": "ipython",
    "version": 3
   },
   "file_extension": ".py",
   "mimetype": "text/x-python",
   "name": "python",
   "nbconvert_exporter": "python",
   "pygments_lexer": "ipython3",
   "version": "3.9.5"
  }
 },
 "nbformat": 4,
 "nbformat_minor": 5
}
