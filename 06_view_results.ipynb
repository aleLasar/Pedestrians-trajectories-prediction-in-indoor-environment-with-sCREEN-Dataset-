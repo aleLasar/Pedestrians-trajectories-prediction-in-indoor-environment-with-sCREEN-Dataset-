{
 "cells": [
  {
   "cell_type": "markdown",
   "id": "detailed-sword",
   "metadata": {},
   "source": [
    "# Simple trajectories visualization for generic model"
   ]
  },
  {
   "cell_type": "code",
   "execution_count": 1,
   "id": "capital-relative",
   "metadata": {},
   "outputs": [],
   "source": [
    "import sys\n",
    "import pickle\n",
    "import pandas as pd\n",
    "\n",
    "import torch\n",
    "import numpy as np\n",
    "\n",
    "import matplotlib.pyplot as plt\n",
    "%matplotlib inline\n",
    "%config InlineBackend.figure_format='retina'\n",
    "\n",
    "#sys.path.append('../..')\n",
    "#from src.losses import get_loss_mask\n",
    "plt.rcParams.update({'font.size': 16})"
   ]
  },
  {
   "cell_type": "code",
   "execution_count": 2,
   "id": "6e632adb",
   "metadata": {},
   "outputs": [],
   "source": [
    "def get_loss_mask(seq_list):\n",
    "    \"\"\"\n",
    "    Get a mask to denote whether to account prediction during loss/metrics\n",
    "    computation. It is supposed to calculate loss/metrics for a person at\n",
    "    time t only if his data exists from time 0 to time t.\n",
    "\n",
    "    Parameters\n",
    "    ----------\n",
    "    seq_list : PyTorch tensor\n",
    "        input is seq_list[1:]. Size = (seq_len,N_pedestrians). Boolean mask\n",
    "        that is =1 if pedestrian i is present at time-step t.\n",
    "\n",
    "    Returns\n",
    "    -------\n",
    "    loss_mask : PyTorch tensor\n",
    "        Shape: (seq_len,N_pedestrians)\n",
    "        loss_mask[t,i] = 1 if pedestrian i if present from beginning till time t\n",
    "    \"\"\"\n",
    "    loss_mask = seq_list.cumprod(dim=0)\n",
    "    # we should not compute loss/metrics for step 0, as ground_truth and\n",
    "    # predictions are always equal there\n",
    "    loss_mask[0] = 0\n",
    "    return loss_mask"
   ]
  },
  {
   "cell_type": "code",
   "execution_count": 73,
   "id": "c46d5ca9",
   "metadata": {},
   "outputs": [],
   "source": [
    "PATH = \"C:\\\\Users\\\\aless\\\\Desktop\\\\random\""
   ]
  },
  {
   "cell_type": "markdown",
   "id": "pursuant-steering",
   "metadata": {},
   "source": [
    "## Choose experiment"
   ]
  },
  {
   "cell_type": "code",
   "execution_count": 74,
   "id": "consecutive-directory",
   "metadata": {},
   "outputs": [],
   "source": [
    "# other parameters\n",
    "obs_length = 5\n",
    "seq_length = 35\n",
    "\n",
    "# COORDINATE RIFERITE A TRAIETTORIE per settare immagine (DEPRECATED)\n",
    "max_x = 44.281\n",
    "max_y = 34.4\n",
    "min_x = -1.665\n",
    "min_y = -1.87"
   ]
  },
  {
   "cell_type": "code",
   "execution_count": 139,
   "id": "million-financing",
   "metadata": {},
   "outputs": [],
   "source": [
    "# main parameters\n",
    "test_set = 'SCREEN-test'\n",
    "phase = 'test'\n",
    "checkpoint = '002'\n",
    "\n",
    "path = f\"{PATH}\\\\output_{phase}_epoch_{checkpoint}.cpkl\""
   ]
  },
  {
   "cell_type": "code",
   "execution_count": 140,
   "id": "accredited-design",
   "metadata": {},
   "outputs": [
    {
     "name": "stdout",
     "output_type": "stream",
     "text": [
      "Loaded. Number of test batches: 185\n"
     ]
    }
   ],
   "source": [
    "with (open(path, \"rb\")) as openfile:\n",
    "    trajectories_out = pickle.load(openfile)\n",
    "print(\"Loaded. Number of test batches:\", len(trajectories_out))"
   ]
  },
  {
   "cell_type": "markdown",
   "id": "swedish-gateway",
   "metadata": {},
   "source": [
    "## Choose batch"
   ]
  },
  {
   "cell_type": "code",
   "execution_count": 50,
   "id": "dried-vampire",
   "metadata": {},
   "outputs": [],
   "source": [
    "# NEW RESULTS\n",
    "#batch_idx = 8\n",
    "batch_idx = 280\n",
    "inputs, all_output = trajectories_out[batch_idx]\n",
    "batch_abs, batch_shifted, shift_value, seq_list = inputs"
   ]
  },
  {
   "cell_type": "code",
   "execution_count": 51,
   "id": "known-reaction",
   "metadata": {
    "scrolled": false
   },
   "outputs": [
    {
     "name": "stdout",
     "output_type": "stream",
     "text": [
      "Number of pedestrians: 33\n",
      "Number of full pedestrian: 33\n",
      "Full pedestrians indices: [ 0  1  2  3  4  5  6  7  8  9 10 11 12 13 14 15 16 17 18 19 20 21 22 23\n",
      " 24 25 26 27 28 29 30 31 32]\n"
     ]
    }
   ],
   "source": [
    "loss_mask = get_loss_mask(seq_list)\n",
    "agent_full = torch.sum(loss_mask, dim=0) == seq_length - 1\n",
    "print(\"Number of pedestrians:\", batch_shifted.shape[1])\n",
    "print(\"Number of full pedestrian:\", sum(agent_full).item())\n",
    "print(\"Full pedestrians indices:\", np.where(agent_full.cpu().numpy())[0])"
   ]
  },
  {
   "cell_type": "markdown",
   "id": "f74bd7cd",
   "metadata": {},
   "source": [
    "# Automatic print\n"
   ]
  },
  {
   "cell_type": "code",
   "execution_count": 10,
   "id": "b34155e4",
   "metadata": {},
   "outputs": [],
   "source": [
    "img = plt.imread(\"mappa.jpg\")\n",
    "dim = img.shape\n",
    "dim_y = dim[0]\n",
    "dim_x = dim[1]\n",
    "ratio = dim_y/ dim_x\n",
    "new_width = 45\n",
    "trans_x = 0\n",
    "trans_y = -1.2"
   ]
  },
  {
   "cell_type": "code",
   "execution_count": 129,
   "id": "371b0aed",
   "metadata": {},
   "outputs": [],
   "source": [
    "def print_fig_traj(idx, pad):\n",
    "    for id in idx:\n",
    "        ped_idx = id\n",
    "\n",
    "        ground_truth = batch_abs[:,ped_idx,:]\n",
    "        if phase == 'train':\n",
    "            predictions = all_output[:,ped_idx,:] + shift_value[:,ped_idx,:]\n",
    "        else:\n",
    "            predictions = all_output[:,:,ped_idx,:] + shift_value[:,ped_idx,:]\n",
    "        ground_truth = ground_truth.cpu().numpy()\n",
    "        predictions = predictions.cpu().numpy()\n",
    "        \n",
    "        fig, ax = plt.subplots(figsize=(10, 10))\n",
    "\n",
    "        img = plt.imread(\"mappa.jpg\")\n",
    "        ax.imshow(img, extent=[trans_x, new_width + trans_x, trans_y, new_width*ratio + trans_y], alpha = 0.3)\n",
    "        \n",
    "        x_min = ground_truth[:obs_length, 0].min() - pad\n",
    "        x_max = ground_truth[obs_length:, 0].max() + pad\n",
    "        y_min = ground_truth[:obs_length, 1].min() - pad\n",
    "        y_max = ground_truth[obs_length:, 1].max() + pad      \n",
    "        \n",
    "        x_min = 0\n",
    "        x_max = 17\n",
    "        y_min = 1\n",
    "        y_max = 21\n",
    "        \n",
    "        ax.plot(ground_truth[:obs_length, 0], ground_truth[:obs_length, 1],\n",
    "                '-o', color='black', label='Observation')\n",
    "        ax.plot(ground_truth[obs_length:, 0], ground_truth[obs_length:, 1],\n",
    "                '-o', color='blue', label='Prediction')\n",
    "        ax.set(title='Ground truth')\n",
    "        #ax.legend()\n",
    "\n",
    "        plt.axis([x_min, x_max, y_min, y_max])\n",
    "        \n",
    "        plt.savefig(f\"{PATH}\\\\{ped_idx}_gt.png\", format=\"png\")\n",
    "        \n",
    "        fig, ax = plt.subplots(figsize=(10, 10))\n",
    "\n",
    "        img = plt.imread(\"mappa.jpg\")\n",
    "        ax.imshow(img, extent=[trans_x, new_width + trans_x, trans_y, new_width*ratio + trans_y], alpha = 0.3)\n",
    "\n",
    "        if phase == 'train':\n",
    "            ax.plot(ground_truth[:obs_length, 0], ground_truth[:obs_length, 1],\n",
    "                '-o', color='black', label='Observation')\n",
    "            ax.plot(predictions[obs_length:, 0], predictions[obs_length:, 1],\n",
    "                '-o', label='Prediction')\n",
    "            #ax.legend()\n",
    "        else:\n",
    "            for pred in predictions:\n",
    "                ax.plot(ground_truth[:obs_length, 0], ground_truth[:obs_length, 1],\n",
    "                    '-o', color='black', label='Observation')\n",
    "                ax.plot(pred[obs_length:, 0], pred[obs_length:, 1],\n",
    "                    '-o', label='Prediction')\n",
    "        ax.set(title='Predictions')\n",
    "\n",
    "        plt.axis([x_min, x_max, y_min, y_max])\n",
    "        \n",
    "        plt.savefig(f\"{PATH}\\\\{ped_idx}_pred.png\")\n",
    "        "
   ]
  },
  {
   "cell_type": "code",
   "execution_count": 12,
   "id": "9fd9e7ae",
   "metadata": {},
   "outputs": [],
   "source": [
    "def print_pure_traj(idx, pad):\n",
    "    for id in idx:\n",
    "        ped_idx = id\n",
    "\n",
    "        ground_truth = batch_abs[:,ped_idx,:]\n",
    "        if phase == 'train':\n",
    "            predictions = all_output[:,ped_idx,:] + shift_value[:,ped_idx,:]\n",
    "        else:\n",
    "            predictions = all_output[:,:,ped_idx,:] + shift_value[:,ped_idx,:]\n",
    "        ground_truth = ground_truth.cpu().numpy()\n",
    "        predictions = predictions.cpu().numpy()\n",
    "        \n",
    "        fig, ax = plt.subplots(figsize=(10, 10))\n",
    "        \n",
    "        x_min = ground_truth[:obs_length, 0].min() - pad\n",
    "        x_max = ground_truth[obs_length:, 0].max() + pad\n",
    "        y_min = ground_truth[:obs_length, 1].min() - pad\n",
    "        y_max = ground_truth[obs_length:, 1].max() + pad      \n",
    "        \n",
    "        ax.plot(ground_truth[:obs_length, 0], ground_truth[:obs_length, 1],\n",
    "                '-o', color='black', label='Observation')\n",
    "        ax.plot(ground_truth[obs_length:, 0], ground_truth[obs_length:, 1],\n",
    "                '-o', color='blue', label='Prediction')\n",
    "        ax.set(title='Ground truth')\n",
    "        #ax.legend()\n",
    "        \n",
    "        plt.axis([x_min, x_max, y_min, y_max])\n",
    "        \n",
    "        plt.savefig(f\"{PATH}\\\\{ped_idx}_gt_rel.png\", format=\"png\")\n",
    "        \n",
    "        fig, ax = plt.subplots(figsize=(10, 10))\n",
    "\n",
    "        if phase == 'train':\n",
    "            ax.plot(ground_truth[:obs_length, 0], ground_truth[:obs_length, 1],\n",
    "                '-o', color='black', label='Observation')\n",
    "            ax.plot(predictions[obs_length:, 0], predictions[obs_length:, 1],\n",
    "                '-o', label='Prediction')\n",
    "            #ax.legend()\n",
    "        else:\n",
    "            for pred in predictions:\n",
    "                ax.plot(ground_truth[:obs_length, 0], ground_truth[:obs_length, 1],\n",
    "                    '-o', color='black', label='Observation')\n",
    "                ax.plot(pred[obs_length:, 0], pred[obs_length:, 1],\n",
    "                    '-o', label='Prediction')\n",
    "        ax.set(title='Predictions')\n",
    "\n",
    "        plt.axis([x_min, x_max, y_min, y_max])\n",
    "\n",
    "        plt.savefig(f\"{PATH}\\\\{ped_idx}_pred_rel.png\")\n"
   ]
  },
  {
   "cell_type": "code",
   "execution_count": 141,
   "id": "6e45ca28",
   "metadata": {},
   "outputs": [],
   "source": [
    "# NEW RESULTS\n",
    "batch_idx = 0\n",
    "inputs, all_output = trajectories_out[batch_idx]\n",
    "batch_abs, batch_shifted, shift_value, seq_list = inputs"
   ]
  },
  {
   "cell_type": "code",
   "execution_count": null,
   "id": "08fb1c9c",
   "metadata": {
    "scrolled": false
   },
   "outputs": [],
   "source": [
    "idx = [i for i in range(33)]\n",
    "\n",
    "pad = 9\n",
    "pad2 = 5\n",
    "print_fig_traj(idx, pad)\n",
    "print_pure_traj(idx, pad2)"
   ]
  },
  {
   "cell_type": "markdown",
   "id": "db25a4e0",
   "metadata": {},
   "source": [
    "## Loss\n"
   ]
  },
  {
   "cell_type": "code",
   "execution_count": 35,
   "id": "ffd6bdaf",
   "metadata": {},
   "outputs": [
    {
     "data": {
      "text/plain": [
       "Index(['Epoch', 'Learning_rate', 'Train_ADE', 'Train_FDE', 'Valid_ADE',\n",
       "       'Valid_FDE', 'traj_loss'],\n",
       "      dtype='object')"
      ]
     },
     "execution_count": 35,
     "metadata": {},
     "output_type": "execute_result"
    }
   ],
   "source": [
    "data_curve = pd.read_csv(f\"{PATH}\\\\log_curve.txt\")\n",
    "time = data_curve.index.values.tolist()\n",
    "data_curve.columns"
   ]
  },
  {
   "cell_type": "code",
   "execution_count": 36,
   "id": "c06b8e79",
   "metadata": {},
   "outputs": [
    {
     "data": {
      "text/html": [
       "<div>\n",
       "<style scoped>\n",
       "    .dataframe tbody tr th:only-of-type {\n",
       "        vertical-align: middle;\n",
       "    }\n",
       "\n",
       "    .dataframe tbody tr th {\n",
       "        vertical-align: top;\n",
       "    }\n",
       "\n",
       "    .dataframe thead th {\n",
       "        text-align: right;\n",
       "    }\n",
       "</style>\n",
       "<table border=\"1\" class=\"dataframe\">\n",
       "  <thead>\n",
       "    <tr style=\"text-align: right;\">\n",
       "      <th></th>\n",
       "      <th>Epoch</th>\n",
       "      <th>Learning_rate</th>\n",
       "      <th>Train_ADE</th>\n",
       "      <th>Train_FDE</th>\n",
       "      <th>Valid_ADE</th>\n",
       "      <th>Valid_FDE</th>\n",
       "      <th>traj_loss</th>\n",
       "    </tr>\n",
       "  </thead>\n",
       "  <tbody>\n",
       "    <tr>\n",
       "      <th>0</th>\n",
       "      <td>1</td>\n",
       "      <td>0.0001</td>\n",
       "      <td>5.038636</td>\n",
       "      <td>7.861501</td>\n",
       "      <td>0.000000</td>\n",
       "      <td>0.000000</td>\n",
       "      <td>38.665769</td>\n",
       "    </tr>\n",
       "    <tr>\n",
       "      <th>1</th>\n",
       "      <td>2</td>\n",
       "      <td>0.0001</td>\n",
       "      <td>4.470027</td>\n",
       "      <td>7.132145</td>\n",
       "      <td>0.000000</td>\n",
       "      <td>0.000000</td>\n",
       "      <td>32.737512</td>\n",
       "    </tr>\n",
       "    <tr>\n",
       "      <th>2</th>\n",
       "      <td>3</td>\n",
       "      <td>0.0001</td>\n",
       "      <td>3.927403</td>\n",
       "      <td>6.424068</td>\n",
       "      <td>0.000000</td>\n",
       "      <td>0.000000</td>\n",
       "      <td>27.586015</td>\n",
       "    </tr>\n",
       "    <tr>\n",
       "      <th>3</th>\n",
       "      <td>4</td>\n",
       "      <td>0.0001</td>\n",
       "      <td>3.443473</td>\n",
       "      <td>5.798164</td>\n",
       "      <td>0.000000</td>\n",
       "      <td>0.000000</td>\n",
       "      <td>23.191339</td>\n",
       "    </tr>\n",
       "    <tr>\n",
       "      <th>4</th>\n",
       "      <td>5</td>\n",
       "      <td>0.0001</td>\n",
       "      <td>3.072670</td>\n",
       "      <td>5.293897</td>\n",
       "      <td>0.000000</td>\n",
       "      <td>0.000000</td>\n",
       "      <td>19.712118</td>\n",
       "    </tr>\n",
       "    <tr>\n",
       "      <th>...</th>\n",
       "      <td>...</td>\n",
       "      <td>...</td>\n",
       "      <td>...</td>\n",
       "      <td>...</td>\n",
       "      <td>...</td>\n",
       "      <td>...</td>\n",
       "      <td>...</td>\n",
       "    </tr>\n",
       "    <tr>\n",
       "      <th>225</th>\n",
       "      <td>226</td>\n",
       "      <td>0.0001</td>\n",
       "      <td>0.277420</td>\n",
       "      <td>0.478953</td>\n",
       "      <td>3.152056</td>\n",
       "      <td>5.557741</td>\n",
       "      <td>0.152026</td>\n",
       "    </tr>\n",
       "    <tr>\n",
       "      <th>226</th>\n",
       "      <td>227</td>\n",
       "      <td>0.0001</td>\n",
       "      <td>0.276721</td>\n",
       "      <td>0.475985</td>\n",
       "      <td>3.135859</td>\n",
       "      <td>5.527358</td>\n",
       "      <td>0.150913</td>\n",
       "    </tr>\n",
       "    <tr>\n",
       "      <th>227</th>\n",
       "      <td>228</td>\n",
       "      <td>0.0001</td>\n",
       "      <td>0.276707</td>\n",
       "      <td>0.475742</td>\n",
       "      <td>3.179212</td>\n",
       "      <td>5.621748</td>\n",
       "      <td>0.151139</td>\n",
       "    </tr>\n",
       "    <tr>\n",
       "      <th>228</th>\n",
       "      <td>229</td>\n",
       "      <td>0.0001</td>\n",
       "      <td>0.275839</td>\n",
       "      <td>0.473842</td>\n",
       "      <td>3.155949</td>\n",
       "      <td>5.566560</td>\n",
       "      <td>0.149665</td>\n",
       "    </tr>\n",
       "    <tr>\n",
       "      <th>229</th>\n",
       "      <td>230</td>\n",
       "      <td>0.0001</td>\n",
       "      <td>0.275646</td>\n",
       "      <td>0.473628</td>\n",
       "      <td>3.161474</td>\n",
       "      <td>5.621226</td>\n",
       "      <td>0.149445</td>\n",
       "    </tr>\n",
       "  </tbody>\n",
       "</table>\n",
       "<p>230 rows × 7 columns</p>\n",
       "</div>"
      ],
      "text/plain": [
       "     Epoch  Learning_rate  Train_ADE  Train_FDE  Valid_ADE  Valid_FDE  \\\n",
       "0        1         0.0001   5.038636   7.861501   0.000000   0.000000   \n",
       "1        2         0.0001   4.470027   7.132145   0.000000   0.000000   \n",
       "2        3         0.0001   3.927403   6.424068   0.000000   0.000000   \n",
       "3        4         0.0001   3.443473   5.798164   0.000000   0.000000   \n",
       "4        5         0.0001   3.072670   5.293897   0.000000   0.000000   \n",
       "..     ...            ...        ...        ...        ...        ...   \n",
       "225    226         0.0001   0.277420   0.478953   3.152056   5.557741   \n",
       "226    227         0.0001   0.276721   0.475985   3.135859   5.527358   \n",
       "227    228         0.0001   0.276707   0.475742   3.179212   5.621748   \n",
       "228    229         0.0001   0.275839   0.473842   3.155949   5.566560   \n",
       "229    230         0.0001   0.275646   0.473628   3.161474   5.621226   \n",
       "\n",
       "     traj_loss  \n",
       "0    38.665769  \n",
       "1    32.737512  \n",
       "2    27.586015  \n",
       "3    23.191339  \n",
       "4    19.712118  \n",
       "..         ...  \n",
       "225   0.152026  \n",
       "226   0.150913  \n",
       "227   0.151139  \n",
       "228   0.149665  \n",
       "229   0.149445  \n",
       "\n",
       "[230 rows x 7 columns]"
      ]
     },
     "execution_count": 36,
     "metadata": {},
     "output_type": "execute_result"
    }
   ],
   "source": [
    "data_curve"
   ]
  },
  {
   "cell_type": "code",
   "execution_count": null,
   "id": "1f67c12d",
   "metadata": {
    "scrolled": false
   },
   "outputs": [],
   "source": [
    "fig, ax = plt.subplots(3,figsize=(10, 20))\n",
    "\n",
    "ax[0].plot(time, data_curve[\"Train_ADE\"], f\"-or\", label='Train_ADE')\n",
    "ax[0].plot(time, data_curve[\"Valid_ADE\"], f\"-ob\",  label='Validation_ADE')\n",
    "ax[0].set(title='Train_ADE - valid_ADE')\n",
    "ax[0].legend()\n",
    "\n",
    "\n",
    "ax[1].plot(time, data_curve[\"Train_FDE\"], \"-or\", label='Train_FDE')\n",
    "ax[1].plot(time, data_curve[\"Valid_FDE\"], f\"-ob\",  label='Validation_FDE')\n",
    "ax[1].set(title='Train_FDE - Valid_FDE')\n",
    "ax[1].legend()\n",
    "\n",
    "ax[2].plot(time, data_curve[\"traj_loss\"], \"-o\")\n",
    "ax[2].set(title='traj_loss')\n",
    "\n",
    "\n",
    "plt.savefig(f\"{PATH}\\\\statistics.png\")\n",
    "\n",
    "plt.show()"
   ]
  },
  {
   "cell_type": "markdown",
   "id": "d46458ed",
   "metadata": {},
   "source": [
    "<p>Average Displacement Error (ADE):\n",
    "<ul>\n",
    "    <li>Average mean square error (MSE) over all time steps between the ground truth future trajectory x and the\n",
    "        closest sample ˜x in the forecasted set of trajectories Yf. </li>\n",
    "    <li>Refers to the mean square error (MSE) over all estimated points of every trajectory and the true points </li>\n",
    "</ul>\n",
    "    </p>\n",
    "\n",
    "<p>Final Displacement Error (FDE): \n",
    "<ul>\n",
    "    <li>MSE between the final ground truth position x_t and the closest sample’s final position ˜x_t </li>\n",
    "    <li>FDE means the distance between the predicted final destination and the true final destination at the Tpred time.</li>\n",
    "</ul>\n",
    "</p>      "
   ]
  },
  {
   "cell_type": "code",
   "execution_count": null,
   "id": "bf47a1d7",
   "metadata": {},
   "outputs": [],
   "source": []
  }
 ],
 "metadata": {
  "kernelspec": {
   "display_name": "Python 3",
   "language": "python",
   "name": "python3"
  },
  "language_info": {
   "codemirror_mode": {
    "name": "ipython",
    "version": 3
   },
   "file_extension": ".py",
   "mimetype": "text/x-python",
   "name": "python",
   "nbconvert_exporter": "python",
   "pygments_lexer": "ipython3",
   "version": "3.9.5"
  }
 },
 "nbformat": 4,
 "nbformat_minor": 5
}
